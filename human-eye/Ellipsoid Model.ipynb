{
  "metadata": {
    "language_info": {
      "codemirror_mode": {
        "name": "python",
        "version": 3
      },
      "file_extension": ".py",
      "mimetype": "text/x-python",
      "name": "python",
      "nbconvert_exporter": "python",
      "pygments_lexer": "ipython3",
      "version": "3.8"
    },
    "kernelspec": {
      "name": "python",
      "display_name": "Pyolite",
      "language": "python"
    }
  },
  "nbformat_minor": 4,
  "nbformat": 4,
  "cells": [
    {
      "cell_type": "markdown",
      "source": "# Affine Transformation of the Corneal Topography\n\nIn this notebook, we walk through how to compute the affine transformation of a coneal topography. Hopefully by providing some concrete math and visuals, we can help make hte math seeem more managable. ",
      "metadata": {}
    },
    {
      "cell_type": "markdown",
      "source": "## Running the code\n\nTo run the code, click on each 'cell' and press `Shift+Enter`. You can also modify the code as you go along!",
      "metadata": {}
    },
    {
      "cell_type": "markdown",
      "source": "## Sources: In this notebook, we use the following sources:\n- Navarro, R. (2009). The Optical Design of the Human Eye: A Critical Review. Journal of Optometry, 2(1), 3–18. https://doi.org/10.3921/joptom.2009.3\n- Wikipedia contributors. (2022, April 21). Ellipsoid. In Wikipedia, The Free Encyclopedia. Retrieved 04:34, June 18, 2022, from https://en.wikipedia.org/w/index.php?title=Ellipsoid&oldid=1083967595",
      "metadata": {}
    },
    {
      "cell_type": "markdown",
      "source": "---",
      "metadata": {
        "tags": []
      }
    },
    {
      "cell_type": "markdown",
      "source": "## Optical Model of the Eye\n\nThe human eye is a complicated hodpodge of surfaces and lenses. The problem of modeling the eye is still an on going effort. While many models are 'good' they all usually have paradoxes. In this notebook we focus exclusively on the **3-axis non-revolution ellipsoid model of the human eye**, as discussed in (Navarro2009). \n\nThis model takes after an [ellipsoid](https://en.wikipedia.org/wiki/Ellipsoid#Standard_equation), which is defined by the following implicit equation:\n$$\n\\frac{x^2}{a^2} + \\frac{y^2}{b^2} + \\frac{z^2}{c^2} = 1\n$$\nwhere $a,b,c$ are positive real numbers. \n\n",
      "metadata": {}
    },
    {
      "cell_type": "markdown",
      "source": "## Example of ellipsoid: \n\nLet's start off by plotting an ellipsoid. The code lookes complicated, but don't worry about that for now",
      "metadata": {}
    },
    {
      "cell_type": "code",
      "source": "import micropip\nmicropip.install(\"plotly\")\n",
      "metadata": {
        "trusted": true
      },
      "execution_count": 4,
      "outputs": [
        {
          "execution_count": 4,
          "output_type": "execute_result",
          "data": {
            "text/plain": "<Task pending name='Task-38' coro=<_PackageManager.install() running at /lib/python3.10/site-packages/micropip/_micropip.py:176>>"
          },
          "metadata": {}
        }
      ]
    },
    {
      "cell_type": "code",
      "source": "import plotly\nfrom plotly.offline import iplot, init_notebook_mode\nfrom plotly.graph_objs import Mesh3d\nfrom numpy import sin, cos, pi\n\n# some math: generate points on the surface of ellipsoid\n\nphi = np.linspace(0, 2*pi)\ntheta = np.linspace(-pi/2, pi/2)\nphi, theta=np.meshgrid(phi, theta)\n\nx = cos(theta) * sin(phi) * 3\ny = cos(theta) * cos(phi) * 2\nz = sin(theta)\n\n# to use with Jupyter notebook\n\ninit_notebook_mode()\n\niplot([Mesh3d({\n                'x': x.flatten(), \n                'y': y.flatten(), \n                'z': z.flatten(), \n                'alphahull': 0\n})])",
      "metadata": {},
      "execution_count": null,
      "outputs": []
    }
  ]
}